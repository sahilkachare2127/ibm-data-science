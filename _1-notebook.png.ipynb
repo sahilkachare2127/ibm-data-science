{
 "cells": [
  {
   "cell_type": "code",
   "execution_count": 7,
   "id": "2f9bb9f8",
   "metadata": {},
   "outputs": [],
   "source": [
    "# Data Science Final Project\n",
    "\n"
   ]
  },
  {
   "cell_type": "code",
   "execution_count": 20,
   "id": "9a2bba98",
   "metadata": {},
   "outputs": [],
   "source": [
    "## Introduction\n",
    "#Welcome to my final project for the Data Science course. In this notebook, I will cover various aspects of data science including languages, libraries, tools, and some practical coding examples."
   ]
  },
  {
   "cell_type": "code",
   "execution_count": 5,
   "id": "456c3810",
   "metadata": {},
   "outputs": [],
   "source": [
    "# Data Science Languages\n",
    "# Here are some common languages used in data science:\n",
    "# - Python\n",
    "# - R\n",
    "# - SQL\n",
    "# - Julia\n",
    "# - Scala"
   ]
  },
  {
   "cell_type": "code",
   "execution_count": 4,
   "id": "946b2a52",
   "metadata": {},
   "outputs": [
    {
     "ename": "SyntaxError",
     "evalue": "invalid syntax (3500100628.py, line 2)",
     "output_type": "error",
     "traceback": [
      "\u001b[1;36m  Cell \u001b[1;32mIn[4], line 2\u001b[1;36m\u001b[0m\n\u001b[1;33m    Here are some common languages used in data science:\u001b[0m\n\u001b[1;37m         ^\u001b[0m\n\u001b[1;31mSyntaxError\u001b[0m\u001b[1;31m:\u001b[0m invalid syntax\n"
     ]
    }
   ],
   "source": [
    "## Data Science Languages\n",
    "Here are some common languages used in data science:\n",
    "- Python\n",
    "- R\n",
    "- SQL\n",
    "- Julia\n",
    "- Scala\n"
   ]
  },
  {
   "cell_type": "code",
   "execution_count": 8,
   "id": "316c4d72",
   "metadata": {},
   "outputs": [],
   "source": [
    "# Data Science Libraries\n",
    "# Here are some popular libraries used in data science:\n",
    "# - Pandas\n",
    "# - NumPy\n",
    "# - Matplotlib\n",
    "# - SciPy\n",
    "# - Scikit-learn\n",
    "# - TensorFlow\n",
    "# - PyTorch"
   ]
  },
  {
   "cell_type": "code",
   "execution_count": 13,
   "id": "3ce01562",
   "metadata": {},
   "outputs": [],
   "source": [
    "\n",
    "# Data Science Tools\n",
    "\n",
    "# |Tool         | Description                           |\n",
    "# | Jupyter      | Interactive notebook for coding        |\n",
    "# | RStudio      | IDE for R programming                  |\n",
    "# | Apache Spark | Big data processing framework          |\n",
    "# | Tableau      | Data visualization tool                |\n",
    "# | Excel        | Spreadsheet tool for data analysis    |"
   ]
  },
  {
   "cell_type": "code",
   "execution_count": 15,
   "id": "0b0cf143",
   "metadata": {},
   "outputs": [],
   "source": [
    "## Arithmetic Expression Examples\n",
    "# In this section, we will explore some basic arithmetic operations using Python."
   ]
  },
  {
   "cell_type": "code",
   "execution_count": 16,
   "id": "fdc13351",
   "metadata": {},
   "outputs": [
    {
     "data": {
      "text/plain": [
       "(50, 15)"
      ]
     },
     "execution_count": 16,
     "metadata": {},
     "output_type": "execute_result"
    }
   ],
   "source": [
    "# Multiplying and Adding Numbers\n",
    "a = 5\n",
    "b = 10\n",
    "\n",
    "# Multiplication\n",
    "product = a * b\n",
    "\n",
    "# Addition\n",
    "sum_result = a + b\n",
    "\n",
    "product, sum_result"
   ]
  },
  {
   "cell_type": "code",
   "execution_count": 17,
   "id": "f6d62df0",
   "metadata": {},
   "outputs": [
    {
     "data": {
      "text/plain": [
       "2.0"
      ]
     },
     "execution_count": 17,
     "metadata": {},
     "output_type": "execute_result"
    }
   ],
   "source": [
    "# Convert Minutes to Hours\n",
    "def minutes_to_hours(minutes):\n",
    "    hours = minutes / 60\n",
    "    return hours\n",
    "\n",
    "# Example\n",
    "minutes = 120\n",
    "hours = minutes_to_hours(minutes)\n",
    "hours\n"
   ]
  },
  {
   "cell_type": "code",
   "execution_count": 19,
   "id": "521e6cc7",
   "metadata": {},
   "outputs": [],
   "source": [
    "## Objectives\n",
    "# 1. To understand and document various data science languages and libraries.\n",
    "# 2. To demonstrate practical coding examples for arithmetic operations and unit conversions.\n",
    "# 3. To create a comprehensive and well-organized final project notebook."
   ]
  },
  {
   "cell_type": "code",
   "execution_count": null,
   "id": "6237764a",
   "metadata": {},
   "outputs": [],
   "source": [
    "## Author\n",
    "#This notebook was created by [sahil kachare]."
   ]
  }
 ],
 "metadata": {
  "kernelspec": {
   "display_name": "Python 3 (ipykernel)",
   "language": "python",
   "name": "python3"
  },
  "language_info": {
   "codemirror_mode": {
    "name": "ipython",
    "version": 3
   },
   "file_extension": ".py",
   "mimetype": "text/x-python",
   "name": "python",
   "nbconvert_exporter": "python",
   "pygments_lexer": "ipython3",
   "version": "3.11.5"
  }
 },
 "nbformat": 4,
 "nbformat_minor": 5
}
